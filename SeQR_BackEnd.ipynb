{
  "cells": [
    {
      "cell_type": "markdown",
      "source": [
        "# SeQR_BackEnd"
      ],
      "metadata": {
        "id": "1FzPbYeiahQD"
      }
    },
    {
      "cell_type": "code",
      "source": [
        "pip install BeautifulSoup"
      ],
      "metadata": {
        "id": "O4bHFgiK3ko1",
        "outputId": "d9d132c0-976e-4856-cd79-2127f44a6f48",
        "colab": {
          "base_uri": "https://localhost:8080/"
        }
      },
      "execution_count": null,
      "outputs": [
        {
          "output_type": "stream",
          "name": "stdout",
          "text": [
            "Collecting BeautifulSoup\n",
            "  Using cached BeautifulSoup-3.2.2.tar.gz (32 kB)\n",
            "  \u001b[1;31merror\u001b[0m: \u001b[1msubprocess-exited-with-error\u001b[0m\n",
            "  \n",
            "  \u001b[31m×\u001b[0m \u001b[32mpython setup.py egg_info\u001b[0m did not run successfully.\n",
            "  \u001b[31m│\u001b[0m exit code: \u001b[1;36m1\u001b[0m\n",
            "  \u001b[31m╰─>\u001b[0m See above for output.\n",
            "  \n",
            "  \u001b[1;35mnote\u001b[0m: This error originates from a subprocess, and is likely not a problem with pip.\n",
            "  Preparing metadata (setup.py) ... \u001b[?25l\u001b[?25herror\n",
            "\u001b[1;31merror\u001b[0m: \u001b[1mmetadata-generation-failed\u001b[0m\n",
            "\n",
            "\u001b[31m×\u001b[0m Encountered error while generating package metadata.\n",
            "\u001b[31m╰─>\u001b[0m See above for output.\n",
            "\n",
            "\u001b[1;35mnote\u001b[0m: This is an issue with the package mentioned above, not pip.\n",
            "\u001b[1;36mhint\u001b[0m: See above for details.\n"
          ]
        }
      ]
    },
    {
      "cell_type": "markdown",
      "source": [],
      "metadata": {
        "id": "zUsUIFi05gg0"
      }
    },
    {
      "cell_type": "code",
      "source": [],
      "metadata": {
        "id": "Z_BDTRtf5KCu"
      },
      "execution_count": null,
      "outputs": []
    },
    {
      "cell_type": "code",
      "source": [
        "import requests\n",
        "\n",
        "def get_final_url(url):\n",
        "    try:\n",
        "        # HTTP HEAD 요청을 보내고 리디렉션을 추적\n",
        "        response = requests.head(url, allow_redirects=True)\n",
        "        return response.url  # 최종 URL 반환\n",
        "    except requests.exceptions.RequestException as e:\n",
        "        return {\"error\": str(e)}  # 요청 중 발생한 예외 처리\n",
        "\n",
        "# 사용 예시\n",
        "url = 'https://bIt.ly/2024먼동제부스신청'\n",
        "final_url = get_final_url(url)\n",
        "print(final_url)\n"
      ],
      "metadata": {
        "id": "ciGbMfSNahse",
        "outputId": "a479bcd0-712d-4da6-b8cc-f4638eaf73a9",
        "colab": {
          "base_uri": "https://localhost:8080/"
        }
      },
      "execution_count": null,
      "outputs": [
        {
          "output_type": "stream",
          "name": "stdout",
          "text": [
            "https://docs.google.com/forms/d/e/1FAIpQLSchvOglWaMflxy7fc6GyvbJrKfDRGmLu_ORC-lD_AatH7Pb9A/closedform\n"
          ]
        }
      ]
    },
    {
      "cell_type": "code",
      "source": [
        "import requests\n",
        "from bs4 import BeautifulSoup\n",
        "\n",
        "def get_url_preview(url):\n",
        "    try:\n",
        "        response = requests.get(url, headers={'User-Agent': 'Mozilla/5.0'})\n",
        "        response.raise_for_status()  # 요청이 성공했는지 확인\n",
        "        soup = BeautifulSoup(response.text, 'html.parser')\n",
        "\n",
        "        # Open Graph 및 기본 메타 태그에서 정보 추출\n",
        "        title = soup.find(\"meta\", property=\"og:title\") or soup.find(\"title\")\n",
        "        description = soup.find(\"meta\", property=\"og:description\") or soup.find(\"meta\", attrs={\"name\": \"description\"})\n",
        "        image = soup.find(\"meta\", property=\"og:image\")\n",
        "\n",
        "        # 메타 태그가 없을 경우 대비\n",
        "        preview_info = {\n",
        "            \"title\": title[\"content\"] if title and title.has_attr(\"content\") else title.string if title else \"No title found\",\n",
        "            \"description\": description[\"content\"] if description else \"No description found\",\n",
        "            \"image\": image[\"content\"] if image else \"No image found\"\n",
        "        }\n",
        "\n",
        "        return preview_info\n",
        "\n",
        "    except requests.exceptions.RequestException as e:\n",
        "        return {\"error\": str(e)}\n",
        "\n",
        "# 사용 예시\n",
        "url = \"https://ticket.interpark.com/webzine/paper/TPNoticeView.asp?bbsno=34&no=53330\"\n",
        "preview = get_url_preview(url)\n",
        "print(preview)\n"
      ],
      "metadata": {
        "id": "lc5_xQpY31ez",
        "outputId": "30193b31-3781-4c93-e230-0e865fbfaa6d",
        "colab": {
          "base_uri": "https://localhost:8080/"
        }
      },
      "execution_count": null,
      "outputs": [
        {
          "output_type": "stream",
          "name": "stdout",
          "text": [
            "{'title': '인터파크 티켓', 'description': 'No description found', 'image': 'No image found'}\n"
          ]
        }
      ]
    },
    {
      "cell_type": "code",
      "source": [
        "from fastapi import FastAPI\n",
        "from pydantic import BaseModel\n",
        "from seqr_model import predict_url  # seqr_model에서 predict_url 함수 불러오기\n",
        "import requests\n",
        "from bs4 import BeautifulSoup\n",
        "\n",
        "# FastAPI 애플리케이션 초기화\n",
        "app = FastAPI()\n",
        "\n",
        "# 요청 바디를 정의하는 Pydantic 모델\n",
        "class TextRequest(BaseModel):\n",
        "    text: str\n",
        "\n",
        "# 최종 URL을 가져오는 함수\n",
        "def get_final_url(url):\n",
        "    try:\n",
        "        response = requests.head(url, allow_redirects=True)\n",
        "        return response.url\n",
        "    except requests.exceptions.RequestException as e:\n",
        "        return {\"error\": str(e)}\n",
        "\n",
        "# URL 미리보기 정보 가져오는 함수\n",
        "def get_url_preview(url):\n",
        "    try:\n",
        "        response = requests.get(url, headers={'User-Agent': 'Mozilla/5.0'})\n",
        "        response.raise_for_status()\n",
        "        soup = BeautifulSoup(response.text, 'html.parser')\n",
        "\n",
        "        title = soup.find(\"meta\", property=\"og:title\") or soup.find(\"title\")\n",
        "        description = soup.find(\"meta\", property=\"og:description\") or soup.find(\"meta\", attrs={\"name\": \"description\"})\n",
        "        image = soup.find(\"meta\", property=\"og:image\")\n",
        "\n",
        "        preview_info = {\n",
        "            \"title\": title[\"content\"] if title and title.has_attr(\"content\") else title.string if title else \"No title found\",\n",
        "            \"description\": description[\"content\"] if description else \"No description found\",\n",
        "            \"image\": image[\"content\"] if image else \"No image found\"\n",
        "        }\n",
        "        return preview_info\n",
        "    except requests.exceptions.RequestException as e:\n",
        "        return {\"error\": str(e)}\n",
        "\n",
        "@app.post(\"/predict\")\n",
        "async def predict(request: TextRequest):\n",
        "    # seqr_model.py의 predict_url 함수 사용하여 예측 수행\n",
        "    predicted_class, probabilities = predict_url(request.text)\n",
        "\n",
        "    # URL 처리\n",
        "    urls = [word for word in request.text.split() if word.startswith(\"http\")]\n",
        "    url_data = []\n",
        "    for url in urls:\n",
        "        final_url = get_final_url(url)\n",
        "        preview_info = get_url_preview(url)\n",
        "        url_data.append({\n",
        "            \"url\": url,\n",
        "            \"final_url\": final_url,\n",
        "            \"preview\": preview_info\n",
        "        })\n",
        "\n",
        "    return {\n",
        "        \"predicted_class\": predicted_class,\n",
        "        \"probabilities\": probabilities,\n",
        "        \"original_text\": request.text,\n",
        "        \"url_data\": url_data\n",
        "    }\n"
      ],
      "metadata": {
        "colab": {
          "base_uri": "https://localhost:8080/",
          "height": 428
        },
        "id": "YWTNXUsTXJe6",
        "outputId": "27666f01-7b28-4ad9-d0a9-79297c880340"
      },
      "execution_count": null,
      "outputs": [
        {
          "output_type": "error",
          "ename": "ModuleNotFoundError",
          "evalue": "No module named 'fastapi'",
          "traceback": [
            "\u001b[0;31m---------------------------------------------------------------------------\u001b[0m",
            "\u001b[0;31mModuleNotFoundError\u001b[0m                       Traceback (most recent call last)",
            "\u001b[0;32m<ipython-input-1-b725fc40afbb>\u001b[0m in \u001b[0;36m<cell line: 1>\u001b[0;34m()\u001b[0m\n\u001b[0;32m----> 1\u001b[0;31m \u001b[0;32mfrom\u001b[0m \u001b[0mfastapi\u001b[0m \u001b[0;32mimport\u001b[0m \u001b[0mFastAPI\u001b[0m\u001b[0;34m\u001b[0m\u001b[0;34m\u001b[0m\u001b[0m\n\u001b[0m\u001b[1;32m      2\u001b[0m \u001b[0;32mfrom\u001b[0m \u001b[0mpydantic\u001b[0m \u001b[0;32mimport\u001b[0m \u001b[0mBaseModel\u001b[0m\u001b[0;34m\u001b[0m\u001b[0;34m\u001b[0m\u001b[0m\n\u001b[1;32m      3\u001b[0m \u001b[0;32mfrom\u001b[0m \u001b[0mseqr_model\u001b[0m \u001b[0;32mimport\u001b[0m \u001b[0mpredict_url\u001b[0m  \u001b[0;31m# seqr_model에서 predict_url 함수 불러오기\u001b[0m\u001b[0;34m\u001b[0m\u001b[0;34m\u001b[0m\u001b[0m\n\u001b[1;32m      4\u001b[0m \u001b[0;32mimport\u001b[0m \u001b[0mrequests\u001b[0m\u001b[0;34m\u001b[0m\u001b[0;34m\u001b[0m\u001b[0m\n\u001b[1;32m      5\u001b[0m \u001b[0;32mfrom\u001b[0m \u001b[0mbs4\u001b[0m \u001b[0;32mimport\u001b[0m \u001b[0mBeautifulSoup\u001b[0m\u001b[0;34m\u001b[0m\u001b[0;34m\u001b[0m\u001b[0m\n",
            "\u001b[0;31mModuleNotFoundError\u001b[0m: No module named 'fastapi'",
            "",
            "\u001b[0;31m---------------------------------------------------------------------------\u001b[0;32m\nNOTE: If your import is failing due to a missing package, you can\nmanually install dependencies using either !pip or !apt.\n\nTo view examples of installing some common dependencies, click the\n\"Open Examples\" button below.\n\u001b[0;31m---------------------------------------------------------------------------\u001b[0m\n"
          ],
          "errorDetails": {
            "actions": [
              {
                "action": "open_url",
                "actionText": "Open Examples",
                "url": "/notebooks/snippets/importing_libraries.ipynb"
              }
            ]
          }
        }
      ]
    }
  ],
  "metadata": {
    "colab": {
      "provenance": []
    },
    "kernelspec": {
      "display_name": "Python 3",
      "name": "python3"
    }
  },
  "nbformat": 4,
  "nbformat_minor": 0
}