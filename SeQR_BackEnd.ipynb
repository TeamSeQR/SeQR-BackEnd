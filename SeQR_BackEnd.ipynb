{
  "cells": [
    {
      "cell_type": "markdown",
      "source": [
        "# SeQR_BackEnd"
      ],
      "metadata": {
        "id": "1FzPbYeiahQD"
      }
    },
    {
      "cell_type": "markdown",
      "source": [
        "### 1. 단축 URL이 이동시키는 원본 URL 가져오기 (리디렉션 추적)"
      ],
      "metadata": {
        "id": "HrkQOHfBR3bG"
      }
    },
    {
      "cell_type": "code",
      "source": [
        "# pip install BeautifulSoup"
      ],
      "metadata": {
        "id": "O4bHFgiK3ko1"
      },
      "execution_count": null,
      "outputs": []
    },
    {
      "cell_type": "code",
      "source": [
        "import requests\n",
        "\n",
        "def get_final_url(url):\n",
        "    try:\n",
        "        # HTTP HEAD 요청을 보내고 리디렉션을 추적\n",
        "        response = requests.head(url, allow_redirects=True)\n",
        "        return response.url  # 최종 URL 반환\n",
        "    except requests.exceptions.RequestException as e:\n",
        "        return {\"error\": str(e)}  # 요청 중 발생한 예외 처리\n",
        "\n",
        "# 사용 예시\n",
        "url = 'https://bIt.ly/2024먼동제부스신청'\n",
        "final_url = get_final_url(url)\n",
        "print(final_url)\n"
      ],
      "metadata": {
        "id": "ciGbMfSNahse",
        "outputId": "5cde0cf8-c890-4d5e-a404-603f349ce25d",
        "colab": {
          "base_uri": "https://localhost:8080/"
        }
      },
      "execution_count": null,
      "outputs": [
        {
          "output_type": "stream",
          "name": "stdout",
          "text": [
            "https://docs.google.com/forms/d/e/1FAIpQLSchvOglWaMflxy7fc6GyvbJrKfDRGmLu_ORC-lD_AatH7Pb9A/closedform\n"
          ]
        }
      ]
    },
    {
      "cell_type": "markdown",
      "source": [
        "### 2. 요청 보내고 메타 데이터 받아오기"
      ],
      "metadata": {
        "id": "BiQ6_nAlSGfj"
      }
    },
    {
      "cell_type": "code",
      "source": [
        "import requests\n",
        "from bs4 import BeautifulSoup\n",
        "\n",
        "def get_url_preview(url):\n",
        "    try:\n",
        "        response = requests.get(url, headers={'User-Agent': 'Mozilla/5.0'})\n",
        "        response.raise_for_status()  # 요청이 성공했는지 확인\n",
        "        soup = BeautifulSoup(response.text, 'html.parser')\n",
        "\n",
        "        # Open Graph 및 기본 메타 태그에서 정보 추출\n",
        "        title = soup.find(\"meta\", property=\"og:title\") or soup.find(\"title\")\n",
        "        description = soup.find(\"meta\", property=\"og:description\") or soup.find(\"meta\", attrs={\"name\": \"description\"})\n",
        "        image = soup.find(\"meta\", property=\"og:image\")\n",
        "\n",
        "        # 메타 태그가 없을 경우 대비\n",
        "        preview_info = {\n",
        "            \"title\": title[\"content\"] if title and title.has_attr(\"content\") else title.string if title else \"No title found\",\n",
        "            \"description\": description[\"content\"] if description else \"No description found\",\n",
        "            \"image\": image[\"content\"] if image else \"No image found\"\n",
        "        }\n",
        "\n",
        "        return preview_info\n",
        "\n",
        "    except requests.exceptions.RequestException as e:\n",
        "        return {\"error\": str(e)}\n",
        "\n",
        "# 사용 예시\n",
        "url = \"https://ticket.interpark.com/webzine/paper/TPNoticeView.asp?bbsno=34&no=53330\"\n",
        "preview = get_url_preview(url)\n",
        "print(preview)\n"
      ],
      "metadata": {
        "id": "lc5_xQpY31ez",
        "outputId": "7c37ad52-544a-4885-c662-9d56c5368b0a",
        "colab": {
          "base_uri": "https://localhost:8080/"
        }
      },
      "execution_count": null,
      "outputs": [
        {
          "output_type": "stream",
          "name": "stdout",
          "text": [
            "{'title': '인터파크 티켓', 'description': 'No description found', 'image': 'No image found'}\n"
          ]
        }
      ]
    },
    {
      "cell_type": "markdown",
      "source": [
        "### 3. 백엔드 코드"
      ],
      "metadata": {
        "id": "8qh8EjY7SODs"
      }
    },
    {
      "cell_type": "code",
      "source": [
        "# pip install fastapi\n",
        "pip install uvicorn"
      ],
      "metadata": {
        "colab": {
          "base_uri": "https://localhost:8080/"
        },
        "id": "sX8XoJ0vSULV",
        "outputId": "c27b443e-7ab9-41f2-ef70-b325c5eb1971"
      },
      "execution_count": null,
      "outputs": [
        {
          "output_type": "stream",
          "name": "stdout",
          "text": [
            "Collecting uvicorn\n",
            "  Downloading uvicorn-0.32.1-py3-none-any.whl.metadata (6.6 kB)\n",
            "Requirement already satisfied: click>=7.0 in /usr/local/lib/python3.10/dist-packages (from uvicorn) (8.1.7)\n",
            "Requirement already satisfied: h11>=0.8 in /usr/local/lib/python3.10/dist-packages (from uvicorn) (0.14.0)\n",
            "Requirement already satisfied: typing-extensions>=4.0 in /usr/local/lib/python3.10/dist-packages (from uvicorn) (4.12.2)\n",
            "Downloading uvicorn-0.32.1-py3-none-any.whl (63 kB)\n",
            "Installing collected packages: uvicorn\n",
            "Successfully installed uvicorn-0.32.1\n"
          ]
        }
      ]
    },
    {
      "cell_type": "code",
      "source": [
        "from fastapi import FastAPI\n",
        "from pydantic import BaseModel\n",
        "from seqr_model import predict_url  # seqr_model에서 predict_url 함수 불러오기\n",
        "import requests\n",
        "from bs4 import BeautifulSoup\n",
        "\n",
        "# FastAPI 애플리케이션 초기화\n",
        "app = FastAPI()\n",
        "\n",
        "# 요청 바디를 정의하는 Pydantic 모델\n",
        "class TextRequest(BaseModel):\n",
        "    text: str\n",
        "\n",
        "# 최종 URL을 가져오는 함수\n",
        "def get_final_url(url):\n",
        "    try:\n",
        "        response = requests.head(url, allow_redirects=True)\n",
        "        return response.url\n",
        "    except requests.exceptions.RequestException as e:\n",
        "        return {\"error\": str(e)}\n",
        "\n",
        "# URL 미리보기 정보 가져오는 함수\n",
        "def get_url_preview(url):\n",
        "    try:\n",
        "        response = requests.get(url, headers={'User-Agent': 'Mozilla/5.0'})\n",
        "        response.raise_for_status()\n",
        "        soup = BeautifulSoup(response.text, 'html.parser')\n",
        "\n",
        "        title = soup.find(\"meta\", property=\"og:title\") or soup.find(\"title\")\n",
        "        description = soup.find(\"meta\", property=\"og:description\") or soup.find(\"meta\", attrs={\"name\": \"description\"})\n",
        "        image = soup.find(\"meta\", property=\"og:image\")\n",
        "\n",
        "        preview_info = {\n",
        "            \"title\": title[\"content\"] if title and title.has_attr(\"content\") else title.string if title else \"No title found\",\n",
        "            \"description\": description[\"content\"] if description else \"No description found\",\n",
        "            \"image\": image[\"content\"] if image else \"No image found\"\n",
        "        }\n",
        "        return preview_info\n",
        "    except requests.exceptions.RequestException as e:\n",
        "        return {\"error\": str(e)}\n",
        "\n",
        "@app.post(\"/predict\")\n",
        "async def predict(request: TextRequest):\n",
        "    # seqr_model.py의 predict_url 함수 사용하여 예측 수행\n",
        "    predicted_class, probabilities = predict_url(request.text)\n",
        "\n",
        "    # URL 처리\n",
        "    urls = [word for word in request.text.split() if word.startswith(\"http\")]\n",
        "    url_data = []\n",
        "    for url in urls:\n",
        "        final_url = get_final_url(url)\n",
        "        preview_info = get_url_preview(url)\n",
        "        url_data.append({\n",
        "            \"url\": url,\n",
        "            \"final_url\": final_url,\n",
        "            \"preview\": preview_info\n",
        "        })\n",
        "\n",
        "    return {\n",
        "        \"predicted_class\": \"predicted_class\",\n",
        "        \"probabilities\": \"probabilities\",\n",
        "        \"original_text\": request.text,\n",
        "        \"url_data\": url_data\n",
        "    }"
      ],
      "metadata": {
        "id": "YWTNXUsTXJe6"
      },
      "execution_count": null,
      "outputs": []
    },
    {
      "cell_type": "code",
      "source": [
        "!pip install nest_asyncio"
      ],
      "metadata": {
        "colab": {
          "base_uri": "https://localhost:8080/"
        },
        "id": "5l_CR_KQVboh",
        "outputId": "f4770b44-8f5c-4c04-ac3b-cbbb917015ad"
      },
      "execution_count": null,
      "outputs": [
        {
          "output_type": "stream",
          "name": "stdout",
          "text": [
            "Requirement already satisfied: nest_asyncio in /usr/local/lib/python3.10/dist-packages (1.6.0)\n"
          ]
        }
      ]
    },
    {
      "cell_type": "markdown",
      "source": [
        "### 3. 모델 예측 제외 테스트 코드"
      ],
      "metadata": {
        "id": "YsXX8lTgXoHn"
      }
    },
    {
      "cell_type": "code",
      "source": [
        "import nest_asyncio\n",
        "from fastapi import FastAPI\n",
        "from fastapi.testclient import TestClient\n",
        "import requests\n",
        "from bs4 import BeautifulSoup\n",
        "\n",
        "# Apply the nest_asyncio to allow asyncio to run within Jupyter/Colab\n",
        "nest_asyncio.apply()\n",
        "\n",
        "# FastAPI app definition\n",
        "app = FastAPI()\n",
        "\n",
        "# Function to get the final URL after redirection\n",
        "def get_final_url(url):\n",
        "    try:\n",
        "        # HTTP HEAD 요청을 보내고 리디렉션을 추적\n",
        "        response = requests.head(url, allow_redirects=True)\n",
        "        return response.url  # 최종 URL 반환\n",
        "    except requests.exceptions.RequestException as e:\n",
        "        return {\"error\": str(e)}  # 요청 중 발생한 예외 처리\n",
        "\n",
        "# Function to extract URL preview (title, description, image)\n",
        "def get_url_preview(url):\n",
        "    try:\n",
        "        response = requests.get(url, headers={'User-Agent': 'Mozilla/5.0'})\n",
        "        response.raise_for_status()  # 요청이 성공했는지 확인\n",
        "        soup = BeautifulSoup(response.text, 'html.parser')\n",
        "\n",
        "        # Open Graph 및 기본 메타 태그에서 정보 추출\n",
        "        title = soup.find(\"meta\", property=\"og:title\") or soup.find(\"title\")\n",
        "        description = soup.find(\"meta\", property=\"og:description\") or soup.find(\"meta\", attrs={\"name\": \"description\"})\n",
        "        image = soup.find(\"meta\", property=\"og:image\")\n",
        "\n",
        "        # 메타 태그가 없을 경우 대비\n",
        "        preview_info = {\n",
        "            \"title\": title[\"content\"] if title and title.has_attr(\"content\") else title.string if title else \"No title found\",\n",
        "            \"description\": description[\"content\"] if description else \"No description found\",\n",
        "            \"image\": image[\"content\"] if image else \"No image found\"\n",
        "        }\n",
        "\n",
        "        return preview_info\n",
        "\n",
        "    except requests.exceptions.RequestException as e:\n",
        "        return {\"error\": str(e)}\n",
        "\n",
        "@app.post(\"/predict\")\n",
        "def predict(data: dict):\n",
        "    url = data.get(\"text\")\n",
        "    if not url:\n",
        "        return {\"error\": \"No URL provided\"}\n",
        "\n",
        "    # Get final URL and URL preview\n",
        "    final_url = get_final_url(url)\n",
        "    url_preview = get_url_preview(final_url)\n",
        "\n",
        "    return {\n",
        "        \"predicted_class\": \"example_class\",\n",
        "        \"probabilities\": [0.1, 0.9],\n",
        "        \"original_text\": url,\n",
        "        \"final_url\": final_url,\n",
        "        \"url_preview\": url_preview\n",
        "    }\n",
        "\n",
        "# TestClient initialization\n",
        "client = TestClient(app)\n",
        "\n",
        "# Test function\n",
        "def test_predict_endpoint():\n",
        "    # Test data with a URL\n",
        "    data = {\"text\": \"https://www.naver.com/\"}\n",
        "\n",
        "    # Sending POST request\n",
        "    response = client.post(\"/predict\", json=data)\n",
        "\n",
        "    # Verify the response status code and structure\n",
        "    assert response.status_code == 200\n",
        "    response_data = response.json()\n",
        "\n",
        "    # Assert expected response structure\n",
        "    assert \"predicted_class\" in response_data\n",
        "    assert \"probabilities\" in response_data\n",
        "    assert \"original_text\" in response_data\n",
        "    assert \"final_url\" in response_data\n",
        "    assert \"url_preview\" in response_data\n",
        "\n",
        "    # Output the results\n",
        "    print(\"Response JSON:\", response_data)\n",
        "    print(\"Predicted Class:\", response_data.get(\"predicted_class\"))\n",
        "    print(\"Probabilities:\", response_data.get(\"probabilities\"))\n",
        "    print(\"Final URL:\", response_data.get(\"final_url\"))\n",
        "    print(\"URL Preview:\", response_data.get(\"url_preview\"))\n",
        "\n",
        "# Execute test function\n",
        "test_predict_endpoint()\n"
      ],
      "metadata": {
        "colab": {
          "base_uri": "https://localhost:8080/"
        },
        "id": "0PncWl-STjhL",
        "outputId": "62991bff-8676-4ab1-ea79-b3dee82f5b2f"
      },
      "execution_count": null,
      "outputs": [
        {
          "output_type": "stream",
          "name": "stdout",
          "text": [
            "Response JSON: {'predicted_class': 'example_class', 'probabilities': [0.1, 0.9], 'original_text': 'https://www.naver.com/', 'final_url': 'https://www.naver.com/', 'url_preview': {'title': '네이버', 'description': '네이버 메인에서 다양한 정보와 유용한 컨텐츠를 만나 보세요', 'image': 'https://s.pstatic.net/static/www/mobile/edit/2016/0705/mobile_212852414260.png'}}\n",
            "Predicted Class: example_class\n",
            "Probabilities: [0.1, 0.9]\n",
            "Final URL: https://www.naver.com/\n",
            "URL Preview: {'title': '네이버', 'description': '네이버 메인에서 다양한 정보와 유용한 컨텐츠를 만나 보세요', 'image': 'https://s.pstatic.net/static/www/mobile/edit/2016/0705/mobile_212852414260.png'}\n"
          ]
        }
      ]
    }
  ],
  "metadata": {
    "colab": {
      "provenance": []
    },
    "kernelspec": {
      "display_name": "Python 3",
      "name": "python3"
    }
  },
  "nbformat": 4,
  "nbformat_minor": 0
}